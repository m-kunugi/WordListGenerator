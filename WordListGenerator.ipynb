{
 "cells": [
  {
   "cell_type": "markdown",
   "metadata": {},
   "source": [
    "# はじめに\n",
    "　このファイルと同じディレクトリに分析したいpdfを入れたフォルダ'pdf'を用意する。  \n",
    "　確認のため、まずは以下のセルを実行する。"
   ]
  },
  {
   "cell_type": "code",
   "execution_count": 1,
   "metadata": {},
   "outputs": [
    {
     "data": {
      "text/plain": [
       "['.DS_Store',\n",
       " 'pdf',\n",
       " 'TechnicalTermSearcher.ipynb',\n",
       " 'data.csv',\n",
       " 'WordListGenerator.ipynb',\n",
       " '.ipynb_checkpoints',\n",
       " 'text',\n",
       " 'data.txt']"
      ]
     },
     "execution_count": 1,
     "metadata": {},
     "output_type": "execute_result"
    }
   ],
   "source": [
    "#! python3\n",
    "import os\n",
    "os.listdir()"
   ]
  },
  {
   "cell_type": "markdown",
   "metadata": {},
   "source": [
    "　この'TechnicalTermSearcher.ipynb'以外に'pdf'があればOK。  \n",
    "　<font color=\"Red\">'data.txt'と'data.csv'をこの後新規作成するため、この中に既に同名ファイルがあれば、違うディレクトリに移動させてください！中身が消えます。</font>"
   ]
  },
  {
   "cell_type": "markdown",
   "metadata": {},
   "source": [
    "## 目次\n",
    "1. 各pdfをそれぞれtxtに変換。\n",
    "2. 作った各txtを１つにまとめる。\n",
    "3. txt内の各単語の登場回数を調べる。\n",
    "4. Mac内蔵辞書を使って単語帳（登場回数順）の作成。"
   ]
  },
  {
   "cell_type": "markdown",
   "metadata": {},
   "source": [
    "## 1. 各pdfをそれぞれtxtに変換。\n",
    "参考サイト  \n",
    "大量のPDFファイルを、pdfminerを使ってtextファイルに変換する  \n",
    "https://qiita.com/monchy-monchy/items/85ded85423be6108f05b  \n",
    "PDFMinerでPDFから日本語テキストを抽出する  \n",
    "https://qiita.com/korkewriya/items/72de38fc506ab37b4f2d"
   ]
  },
  {
   "cell_type": "code",
   "execution_count": 2,
   "metadata": {},
   "outputs": [],
   "source": [
    "pdf_folder_path = os.getcwd() + '/' + 'pdf' # 現在のフォルダのパスを取得\n",
    "text_folder_path = os.getcwd() + '/' + 'text' # pathの表記がmac仕様。windowsの場合は、'/'を'\\'に修正する。\n",
    "\n",
    "os.makedirs(text_folder_path, exist_ok=True)\n",
    "pdf_file_name = os.listdir(pdf_folder_path)"
   ]
  },
  {
   "cell_type": "markdown",
   "metadata": {},
   "source": [
    "pdfminer.sixをインストール（入っていなければ）\n",
    "\n",
    "```\n",
    "$ pip install pdfminer.six\n",
    "```\n"
   ]
  },
  {
   "cell_type": "code",
   "execution_count": 3,
   "metadata": {},
   "outputs": [],
   "source": [
    "import re\n",
    "from pdfminer.pdfinterp import PDFResourceManager, PDFPageInterpreter\n",
    "from pdfminer.converter import TextConverter\n",
    "from pdfminer.layout import LAParams\n",
    "from pdfminer.pdfpage import PDFPage\n",
    "from io import StringIO"
   ]
  },
  {
   "cell_type": "code",
   "execution_count": 4,
   "metadata": {},
   "outputs": [],
   "source": [
    "# nameがpdf（末尾が.pdf）の場合はTrue、それ以外はFalseを返す関数\n",
    "def pdf_checker(name):\n",
    "    pdf_regex = re.compile(r'.+\\.pdf')\n",
    "    if pdf_regex.search(str(name)):\n",
    "        return True\n",
    "    else:\n",
    "        return False\n",
    "\n",
    "# pdfをtxtに変換する関数（ここについて僕はあんまりわかりません）\n",
    "# https://qiita.com/korkewriya/items/72de38fc506ab37b4f2d より\n",
    "def convert_pdf_to_txt(name, txtname, buf=True):\n",
    "    rsrcmgr = PDFResourceManager()\n",
    "    if buf:\n",
    "        outfp = StringIO()\n",
    "    else:\n",
    "        outfp = file(txtname, 'w')\n",
    "    codec = 'utf-8'\n",
    "    laparams = LAParams()\n",
    "    laparams.detect_vertical = True\n",
    "    device = TextConverter(rsrcmgr, outfp, codec=codec, laparams=laparams)\n",
    "\n",
    "    fp = open(pdf_folder_path + '/' + name, 'rb') # nameを開く。\n",
    "    interpreter = PDFPageInterpreter(rsrcmgr, device)\n",
    "    for page in PDFPage.get_pages(fp):\n",
    "        interpreter.process_page(page)\n",
    "    fp.close()\n",
    "    device.close()\n",
    "    if buf:\n",
    "        text = outfp.getvalue()\n",
    "        make_new_text_file = open(text_folder_path + '/' + name + '.txt', 'w') # name.txtを開く。\n",
    "        make_new_text_file.write(text)\n",
    "        make_new_text_file.close()\n",
    "    outfp.close()\n",
    "\n",
    "# 各pdfをそれぞれtxtに変換。\n",
    "for name in pdf_file_name:\n",
    "    if pdf_checker(name):\n",
    "        convert_pdf_to_txt(name, name + '.txt')  # pdf_checkerを使い、True（末尾が.pdfの場合）は変換に進む。\n",
    "    else:\n",
    "        pass                                    # pdfファイルでない場合にはpass"
   ]
  },
  {
   "cell_type": "markdown",
   "metadata": {},
   "source": [
    "## 2. 作った各txtを１つにまとめる。"
   ]
  },
  {
   "cell_type": "code",
   "execution_count": 5,
   "metadata": {},
   "outputs": [],
   "source": [
    "txt_file_name = os.listdir(text_folder_path)\n",
    "mer = open('data.txt', 'w', encoding='UTF-8', newline='') # data.txtを新規作成（初期化）\n",
    "mer.close()\n",
    "\n",
    "# nameがtxt（末尾が.txt）の場合はTrue、それ以外はFalseを返す関数\n",
    "def txt_checker(name):\n",
    "    txt_regex = re.compile(r'.+\\.txt')\n",
    "    if txt_regex.search(str(name)):\n",
    "        return True\n",
    "    else:\n",
    "        return False\n",
    "\n",
    "# txtをマージ（統合）する関数\n",
    "def txt_merge(name):\n",
    "    f = open(name, 'r', encoding='UTF-8', newline='')\n",
    "    mer = open('data.txt', 'a', encoding='UTF-8', newline='')\n",
    "    mer.write(f.read())\n",
    "    f.close()\n",
    "    mer.close()\n",
    "\n",
    "# 各txtを１つにまとめる。\n",
    "for name in txt_file_name:\n",
    "    if txt_checker(name):\n",
    "        txt_merge(text_folder_path + '/' + name)     # txt_checkerを使い、True（末尾が.txtの場合）は変換に進む。\n",
    "    else:\n",
    "        pass                                         # txtファイルでない場合にはpass"
   ]
  },
  {
   "cell_type": "markdown",
   "metadata": {},
   "source": [
    "## 3. txt内の各単語の登場回数を調べる。\n",
    "参考サイト  \n",
    "英単語帳作成～その2～  \n",
    "http://kuroyagi.hatenablog.com/entry/2017/10/07/202830"
   ]
  },
  {
   "cell_type": "code",
   "execution_count": 6,
   "metadata": {},
   "outputs": [],
   "source": [
    "from collections import Counter\n",
    "import csv"
   ]
  },
  {
   "cell_type": "code",
   "execution_count": 7,
   "metadata": {},
   "outputs": [],
   "source": [
    "# 既に知っている単語のリストを作成\n",
    "alreadyknown = [\"the\",\"of\",\"and\",\"in\",\"to\",\"is\",\"for\",\"that\",\"by\",\"this\",\"as\",\"are\",\"be\",\"on\",\"with\"\\\n",
    "                ,\"from\",\"an\",\"which\"]"
   ]
  },
  {
   "cell_type": "code",
   "execution_count": 8,
   "metadata": {},
   "outputs": [],
   "source": [
    "f = open('data.csv', 'w', encoding='UTF-8', newline='') # data.csvを新規作成（初期化）\n",
    "csvwriter = csv.writer(f)\n",
    "label = ['wordlist', 'count', 'definition']\n",
    "csvwriter.writerow(label)\n",
    "f.close()\n",
    "\n",
    "f = open('data.txt', 'r', encoding='UTF-8') # 作ったdata.txtを読み込む。\n",
    "target_text = f.read()\n",
    "f.close()\n",
    "words = re.split(r'\\s|\\,|\\.|\\(|\\)', target_text.lower())\n",
    "\n",
    "# 各単語の登場回数を調べる。\n",
    "counter = Counter(words)"
   ]
  },
  {
   "cell_type": "markdown",
   "metadata": {},
   "source": [
    "## 4. Mac内蔵辞書を使って単語帳（登場回数順）の作成。\n",
    "参考サイト  \n",
    "Python Tips： Mac の辞書アプリを Python から利用したい  \n",
    "https://www.lifewithpython.com/2016/07/python-use-mac-dictionary-app.html"
   ]
  },
  {
   "cell_type": "markdown",
   "metadata": {},
   "source": [
    "PyObjCをインストール（入っていなければ）\n",
    "\n",
    "```\n",
    "$ pip3 install pyobjc\n",
    "```\n"
   ]
  },
  {
   "cell_type": "code",
   "execution_count": 9,
   "metadata": {},
   "outputs": [],
   "source": [
    "from DictionaryServices import DCSGetTermRangeInString, DCSCopyTextDefinition"
   ]
  },
  {
   "cell_type": "code",
   "execution_count": 10,
   "metadata": {},
   "outputs": [],
   "source": [
    "# Mac内蔵辞書でwordの意味を調べ、辞書に有ればその定義を返し、辞書に無い場合は'Not Found'を返す関数\n",
    "def word_def(word):\n",
    "    try:\n",
    "        word_range = DCSGetTermRangeInString(None, word, 0)\n",
    "        return DCSCopyTextDefinition(None, word, word_range)\n",
    "    except IndexError:\n",
    "        return 'Not Found'\n",
    "\n",
    "# 単語帳（登場回数順）の作成。\n",
    "for word, count in counter.most_common():\n",
    "    csvlist = [] # csvlistを初期化\n",
    "    if len(word) < 2 or word in alreadyknown or count < 2: \n",
    "        # 一文字の単語、既に知っている単語（リストalreadyknownにある）、登場回数が一回しかないなら飛ばす。\n",
    "        pass\n",
    "    else:\n",
    "        csvlist.append(word)           # 1列目は単語名\n",
    "        csvlist.append(count)          # 2列目は単語の登場回数\n",
    "        csvlist.append(word_def(word)) # 3列目は単語の意味\n",
    "        f = open('data.csv', 'a', encoding='UTF-8', newline='')\n",
    "        csvwriter = csv.writer(f)    \n",
    "        csvwriter.writerow(csvlist) # csvlistを末尾へ追加\n",
    "        f.close()"
   ]
  },
  {
   "cell_type": "markdown",
   "metadata": {},
   "source": [
    "　できた単語帳を覗いてみる。"
   ]
  },
  {
   "cell_type": "code",
   "execution_count": 11,
   "metadata": {},
   "outputs": [
    {
     "data": {
      "text/html": [
       "<div>\n",
       "<style scoped>\n",
       "    .dataframe tbody tr th:only-of-type {\n",
       "        vertical-align: middle;\n",
       "    }\n",
       "\n",
       "    .dataframe tbody tr th {\n",
       "        vertical-align: top;\n",
       "    }\n",
       "\n",
       "    .dataframe thead th {\n",
       "        text-align: right;\n",
       "    }\n",
       "</style>\n",
       "<table border=\"1\" class=\"dataframe\">\n",
       "  <thead>\n",
       "    <tr style=\"text-align: right;\">\n",
       "      <th></th>\n",
       "      <th>wordlist</th>\n",
       "      <th>count</th>\n",
       "      <th>definition</th>\n",
       "    </tr>\n",
       "  </thead>\n",
       "  <tbody>\n",
       "    <tr>\n",
       "      <th>0</th>\n",
       "      <td>cid:127</td>\n",
       "      <td>810</td>\n",
       "      <td>Cid, El | sid | (also the Cid) Count of Bivar ...</td>\n",
       "    </tr>\n",
       "    <tr>\n",
       "      <th>1</th>\n",
       "      <td>at</td>\n",
       "      <td>654</td>\n",
       "      <td>at1 | at, ət | preposition 1 expressing locati...</td>\n",
       "    </tr>\n",
       "    <tr>\n",
       "      <th>2</th>\n",
       "      <td>cid:0</td>\n",
       "      <td>534</td>\n",
       "      <td>Cid, El | sid | (also the Cid) Count of Bivar ...</td>\n",
       "    </tr>\n",
       "    <tr>\n",
       "      <th>3</th>\n",
       "      <td>it</td>\n",
       "      <td>528</td>\n",
       "      <td>it1 | it | pronoun [third person singular] 1 u...</td>\n",
       "    </tr>\n",
       "    <tr>\n",
       "      <th>4</th>\n",
       "      <td>or</td>\n",
       "      <td>513</td>\n",
       "      <td>or1 | ôr | conjunction 1 used to link alternat...</td>\n",
       "    </tr>\n",
       "  </tbody>\n",
       "</table>\n",
       "</div>"
      ],
      "text/plain": [
       "  wordlist  count                                         definition\n",
       "0  cid:127    810  Cid, El | sid | (also the Cid) Count of Bivar ...\n",
       "1       at    654  at1 | at, ət | preposition 1 expressing locati...\n",
       "2    cid:0    534  Cid, El | sid | (also the Cid) Count of Bivar ...\n",
       "3       it    528  it1 | it | pronoun [third person singular] 1 u...\n",
       "4       or    513  or1 | ôr | conjunction 1 used to link alternat..."
      ]
     },
     "execution_count": 11,
     "metadata": {},
     "output_type": "execute_result"
    }
   ],
   "source": [
    "# pandasはここでしか使わないので、実行できなければ無視して良い。\n",
    "# data.csvの最初の5行を見てみる。\n",
    "import pandas as pd\n",
    "df = pd.read_csv('data.csv')\n",
    "df.head()"
   ]
  }
 ],
 "metadata": {
  "kernelspec": {
   "display_name": "Python 3",
   "language": "python",
   "name": "python3"
  },
  "language_info": {
   "codemirror_mode": {
    "name": "ipython",
    "version": 3
   },
   "file_extension": ".py",
   "mimetype": "text/x-python",
   "name": "python",
   "nbconvert_exporter": "python",
   "pygments_lexer": "ipython3",
   "version": "3.6.6"
  }
 },
 "nbformat": 4,
 "nbformat_minor": 2
}
